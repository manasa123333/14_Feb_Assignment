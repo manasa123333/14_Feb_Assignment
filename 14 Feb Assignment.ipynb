{
 "cells": [
  {
   "cell_type": "markdown",
   "id": "47119f98-0cff-4298-89ad-c1af393a3cfe",
   "metadata": {},
   "source": [
    "1.  What is multithreading in python? Why is it used? Name the module used to handle threads in python                      \n",
    "=> Multithreading is the ability of a program or an operating system to enable more than one user at a time without requiring multiple copies of the program running on the computer. Multithreading can also handle multiple requests from the same user.  \n",
    "the module used to handle threads in python  is threading module."
   ]
  },
  {
   "cell_type": "markdown",
   "id": "02063994-282e-4ca8-b393-ad91b834490d",
   "metadata": {},
   "source": [
    "2. Why is the threading module used?  write the use of the following functions                                           \n",
    "1. activeCount                                                          \n",
    "2. Current Thread                                     \n",
    "3.  enumerate                      \n",
    "=> threading module is used for creating, controlling and managing threads in python.      \n",
    "threading.activeCount() − Returns the number of thread objects that are active. threading.currentThread() − Returns the number of thread objects in the caller's thread control. threading.enumerate() − Returns a list of all thread objects that are currently active."
   ]
  },
  {
   "cell_type": "markdown",
   "id": "94538705-33f4-432c-be8b-de6126f7c1bb",
   "metadata": {},
   "source": [
    "3. Explain the following functions                                                                      \n",
    "1. run                                                                            \n",
    "2. start                                                         \n",
    "3. join                                           \n",
    "4. isAlive                                \n",
    "=> run() method executes any target function belonging to a given thread object that is now active.                    \n",
    "   start() method is an inbuilt method of the Thread class of the threading module in Python. It is used to start a thread's activity. This method calls the run() method internally which then executes the target method.                        \n",
    "   The Python join() function is used to join all the elements from the iterable and create a string and return it as an output to the user. Python join() returns a new string which is the concatenation of the other strings in the iterable specified.                                                  \n",
    "   The . is_alive() method returns True if the thread is still running and False , otherwise."
   ]
  },
  {
   "cell_type": "markdown",
   "id": "9333f082-252d-4f59-8c25-6805286760a7",
   "metadata": {},
   "source": [
    "4. write a python program to create two threads. Thread one must print the list of squares and thread two must print the list of cubes  \n"
   ]
  },
  {
   "cell_type": "code",
   "execution_count": 10,
   "id": "3a85f330-f4d9-487b-a9c4-427817ede7e7",
   "metadata": {},
   "outputs": [],
   "source": [
    "import threading"
   ]
  },
  {
   "cell_type": "code",
   "execution_count": 11,
   "id": "20152953-7f4e-448d-b167-32a3f35402bd",
   "metadata": {},
   "outputs": [],
   "source": [
    "def square(i):\n",
    "    print(i*i)"
   ]
  },
  {
   "cell_type": "code",
   "execution_count": 12,
   "id": "7cad0bb1-46ef-4c4e-bc0e-362e90e3b1b8",
   "metadata": {},
   "outputs": [],
   "source": [
    "def cube(j):\n",
    "    print(j*j*j)"
   ]
  },
  {
   "cell_type": "code",
   "execution_count": 13,
   "id": "147056fd-cae4-433f-9ad8-8b04ed1fd084",
   "metadata": {},
   "outputs": [],
   "source": [
    "thread1=[threading.Thread(target=square,args=(i,)) for i in range(1,10)]\n",
    "thread2=[threading.Thread(target=cube,args=(i,)) for i in range(1,10)]"
   ]
  },
  {
   "cell_type": "code",
   "execution_count": 14,
   "id": "8d53ebc6-f725-4c69-a9be-8a61dc35c514",
   "metadata": {},
   "outputs": [
    {
     "name": "stdout",
     "output_type": "stream",
     "text": [
      "1\n",
      "4\n",
      "9\n",
      "16\n",
      "25\n",
      "36\n",
      "49\n",
      "64\n",
      "81\n"
     ]
    }
   ],
   "source": [
    "for t in thread1:\n",
    "    t.start()"
   ]
  },
  {
   "cell_type": "code",
   "execution_count": 15,
   "id": "2ea2dcf7-21b5-4202-ba2c-f24a59dcefe3",
   "metadata": {},
   "outputs": [
    {
     "name": "stdout",
     "output_type": "stream",
     "text": [
      "1\n",
      "8\n",
      "27\n",
      "64\n",
      "125\n",
      "216\n",
      "343\n",
      "512\n",
      "729\n"
     ]
    }
   ],
   "source": [
    "for t in thread2:\n",
    "    t.start()"
   ]
  },
  {
   "cell_type": "markdown",
   "id": "65ff8c8e-4e1e-4bc9-a9a9-58011559d474",
   "metadata": {},
   "source": [
    "5. State advantages and disadvantages of multithreading                                                    \n",
    "=> Following are some of the common advantages of multithreading:                                                  \n",
    "\n",
    "1.Enhanced performance by decreased development time                                                        \n",
    "2.Simplified and streamlined program coding                                                \n",
    "3.Improvised GUI responsiveness                                        \n",
    "4.Simultaneous and parallelized occurrence of tasks                                         \n",
    "5.Better use of cache storage by utilization of resources                                    \n",
    "6.Decreased cost of maintenance                                  \n",
    "7.Better use of CPU resource                 \n",
    "\n",
    "Multithreading does not only provide you with benefits, it has its disadvantages too. Let us go through some common disadvantages:                       \n",
    "\n",
    "1.Complex debugging and testing processes                                                                 \n",
    "2.Overhead switching of context                                                     \n",
    "3.Increased potential for deadlock occurrence                                                                 \n",
    "4.Increased difficulty level in writing a program                               \n",
    "5.Unpredictable results                           "
   ]
  },
  {
   "cell_type": "markdown",
   "id": "d319010c-3182-45c9-a54b-13bfca2e9582",
   "metadata": {},
   "source": [
    "6. Explain deadlocks and race conditions.                                                    \n",
    "\n",
    "  \n",
    "\n",
    "\n",
    "A deadlock is when two (or more) threads are blocking each other. Usually this has something to do with threads trying to acquire shared resources. For example if threads T1 and T2 need to acquire both resources A and B in order to do their work. If T1 acquires resource A, then T2 acquires resource B, T1 could then be waiting for resource B while T2 was waiting for resource A. In this case, both threads will wait indefinitely for the resource held by the other thread. These threads are said to be deadlocked.                                                                  \n",
    "\n",
    "Race conditions occur when two threads interact in a negatve (buggy) way depending on the exact order that their different instructions are executed. If one thread sets a global variable, for example, then a second thread reads and modifies that global variable, and the first thread reads the variable, the first thread may experience a bug because the variable has changed unexpectedly                                                                      "
   ]
  }
 ],
 "metadata": {
  "kernelspec": {
   "display_name": "Python 3 (ipykernel)",
   "language": "python",
   "name": "python3"
  },
  "language_info": {
   "codemirror_mode": {
    "name": "ipython",
    "version": 3
   },
   "file_extension": ".py",
   "mimetype": "text/x-python",
   "name": "python",
   "nbconvert_exporter": "python",
   "pygments_lexer": "ipython3",
   "version": "3.10.8"
  }
 },
 "nbformat": 4,
 "nbformat_minor": 5
}
